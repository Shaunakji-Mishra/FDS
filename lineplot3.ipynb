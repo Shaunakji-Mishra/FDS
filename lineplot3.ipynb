{
  "nbformat": 4,
  "nbformat_minor": 0,
  "metadata": {
    "colab": {
      "name": "lineplot3.ipynb",
      "provenance": [],
      "authorship_tag": "ABX9TyNkmXpn1uvMQkgHD3/He1ZJ",
      "include_colab_link": true
    },
    "kernelspec": {
      "name": "python3",
      "display_name": "Python 3"
    }
  },
  "cells": [
    {
      "cell_type": "markdown",
      "metadata": {
        "id": "view-in-github",
        "colab_type": "text"
      },
      "source": [
        "<a href=\"https://colab.research.google.com/github/Shaunakji-Mishra/FDS/blob/main/lineplot3.ipynb\" target=\"_parent\"><img src=\"https://colab.research.google.com/assets/colab-badge.svg\" alt=\"Open In Colab\"/></a>"
      ]
    },
    {
      "cell_type": "code",
      "metadata": {
        "colab": {
          "base_uri": "https://localhost:8080/"
        },
        "id": "ta3S5DND9bMX",
        "outputId": "178a603e-1d6f-419c-c3c4-1a8a7291cfe2"
      },
      "source": [
        "%cd ..\r\n",
        "from google.colab import drive\r\n",
        "drive.mount('/content/gdrive')\r\n"
      ],
      "execution_count": 1,
      "outputs": [
        {
          "output_type": "stream",
          "text": [
            "/\n",
            "Mounted at /content/gdrive\n"
          ],
          "name": "stdout"
        }
      ]
    },
    {
      "cell_type": "code",
      "metadata": {
        "colab": {
          "base_uri": "https://localhost:8080/",
          "height": 430
        },
        "id": "l0A10iWP9-A8",
        "outputId": "d010b04f-4c11-4487-9506-7239f33bd55c"
      },
      "source": [
        "import pandas as pd\r\n",
        "gdata=pd.read_csv(\"/content/gdrive/MyDrive/FDS/FDS/axisdata.csv\")\r\n",
        "import seaborn as sns\r\n",
        "import matplotlib.pylab as plt\r\n",
        "\r\n",
        "\r\n",
        "print(gdata.head())\r\n",
        "sns.lineplot(data=gdata, x=\"Years Experience\", y=\"Cars Sold\")"
      ],
      "execution_count": 3,
      "outputs": [
        {
          "output_type": "stream",
          "text": [
            "     Fname      Lname Gender  ...  SalesTraining Years Experience  Cars Sold\n",
            "0     Jada    Walters      F  ...              N                3          2\n",
            "1   Nicole  Henderson      F  ...              N                3          6\n",
            "2    Tanya      Moore      F  ...              Y                4          6\n",
            "3  Ronelle    Jackson      F  ...              Y                5          3\n",
            "4     Brad      Sears      M  ...              N                4          2\n",
            "\n",
            "[5 rows x 7 columns]\n"
          ],
          "name": "stdout"
        },
        {
          "output_type": "execute_result",
          "data": {
            "text/plain": [
              "<matplotlib.axes._subplots.AxesSubplot at 0x7fa45a7c9210>"
            ]
          },
          "metadata": {
            "tags": []
          },
          "execution_count": 3
        },
        {
          "output_type": "display_data",
          "data": {
            "image/png": "[encoded data removed]",
            "text/plain": [
              "<Figure size 432x288 with 1 Axes>"
            ]
          },
          "metadata": {
            "tags": [],
            "needs_background": "light"
          }
        }
      ]
    }
  ]
}