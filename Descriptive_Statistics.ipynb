{
  "nbformat": 4,
  "nbformat_minor": 0,
  "metadata": {
    "colab": {
      "name": "Descriptive Statistics.ipynb",
      "provenance": [],
      "collapsed_sections": [],
      "authorship_tag": "ABX9TyP6AvN0Tfo56T/1v72aqLDp",
      "include_colab_link": true
    },
    "kernelspec": {
      "name": "python3",
      "display_name": "Python 3"
    },
    "language_info": {
      "name": "python"
    }
  },
  "cells": [
    {
      "cell_type": "markdown",
      "metadata": {
        "id": "view-in-github",
        "colab_type": "text"
      },
      "source": [
        "<a href=\"https://colab.research.google.com/github/Shaunakji-Mishra/FDS/blob/main/Descriptive_Statistics.ipynb\" target=\"_parent\"><img src=\"https://colab.research.google.com/assets/colab-badge.svg\" alt=\"Open In Colab\"/></a>"
      ]
    },
    {
      "cell_type": "code",
      "metadata": {
        "id": "2u_JtZKrln-y"
      },
      "source": [
        "import pandas as pd \n",
        "import numpy as np\n",
        "import matplotlib.pyplot as plt\n",
        "import seaborn as sns\n",
        "from scipy.stats import skew\n",
        "from scipy.stats import kurtosis\n",
        "\n"
      ],
      "execution_count": 1,
      "outputs": []
    },
    {
      "cell_type": "code",
      "metadata": {
        "id": "3TBBGABLl5l1"
      },
      "source": [
        "pd.set_option(\"display.max_columns\",None)  # to display all the columns\n",
        "pd.options.display.float_format = \"{:,.2f}\".format # to display float value upto two decimals"
      ],
      "execution_count": null,
      "outputs": []
    },
    {
      "cell_type": "code",
      "metadata": {
        "id": "7Jy6QaiAl9iv"
      },
      "source": [
        "# reading data from csv file \n",
        "xls = pd.read_csv('/content/sample_data/california_housing_test.csv')\n"
      ],
      "execution_count": null,
      "outputs": []
    },
    {
      "cell_type": "code",
      "metadata": {
        "id": "HzZSDN3jmEes"
      },
      "source": [
        "des_df = xls.drop(['id'],axis = 1) # drop id column\n",
        "for col in des_df:   # drop all alpha-numeric columns\n",
        "  if des_df[col].dtype == 'object':\n",
        "    des_df = des_df.drop([col], axis = 1)\n",
        "\n",
        "des_r = des_df.describe() # describe() gives us mean,min,max,median,1Q,3Q,std\n",
        "des_r = des_r.rename(index={'50%':'median/50%'})"
      ],
      "execution_count": null,
      "outputs": []
    },
    {
      "cell_type": "code",
      "metadata": {
        "id": "lfhbYhYFmIMQ"
      },
      "source": [
        "var_r = des_df.var() # calulating variance seperately\n",
        "\n",
        "varlist = []\n",
        "for col in des_df.columns: # converting result of var() from series to list\n",
        "  if df[col].dtype == 'object':\n",
        "    continue\n",
        "  varlist.append(round(df[col],5))\n",
        "\n",
        "df = pd.DataFrame([varlist],columns=des_r.columns, index=['var']) # putting results of variance into dataframe\n",
        "mct = des_r.append(df) # adding var to describe result\n",
        "mode_r = des_df.mode() # calculating mode seperately\n",
        "mode_r = mode_r.rename(index={0:'mode'}) # renaming index\n",
        "mct_m = mct.append(mode_r) # adding mode to describe result"
      ],
      "execution_count": null,
      "outputs": []
    },
    {
      "cell_type": "code",
      "metadata": {
        "id": "O9WEIdYzmPvB"
      },
      "source": [
        "skew_r = skew(des_df) # skewness resultant list\n",
        "df = pd.DataFrame([skew_r],columns=des_df.columns, index=['skewness']) # converting list to dataframe\n",
        "mct_s = mct_m.append(df) # adding skewness to describe dataframe\n",
        "\n",
        "kur_r = kurtosis(des_df) # kurtosis resultant list\n",
        "df = pd.DataFrame([kur_r],columns=des_df.columns, index=['kurtosis']) # converting list to dataframe\n",
        "mct_k = mct_s.append(df) # adding kurtosis to describe dataframe"
      ],
      "execution_count": null,
      "outputs": []
    },
    {
      "cell_type": "code",
      "metadata": {
        "id": "BNbV8CzRmS_d"
      },
      "source": [
        "r_list = []\n",
        "for col in des_df.columns.to_list(): # calculating range for all columns\n",
        "  r_list.append(des_df[col].max()-des_df[col].min())\n",
        "\n",
        "df = pd.DataFrame([r_list],columns=des_df.columns, index=['range']) # converting range list to dataframe\n",
        "mct_r = mct_k.append(df) # adding range to describe dataframe"
      ],
      "execution_count": null,
      "outputs": []
    },
    {
      "cell_type": "code",
      "metadata": {
        "id": "16wMTcxqmWWe"
      },
      "source": [
        "\n",
        "print(mct_r)"
      ],
      "execution_count": null,
      "outputs": []
    },
    {
      "cell_type": "code",
      "metadata": {
        "id": "_GQhi4TCmZy9"
      },
      "source": [
        "\n",
        "# plotting boxplots\n",
        "colNames = xls.columns.tolist() # make a list of columns present in dataframes\n",
        "for colName in colNames:\n",
        "    if xls[colName].dtype == \"object\" or colName == 'id': # skip Id and string columns\n",
        "        continue\n",
        "    plt.figure()\n",
        "    sns.boxplot(y=xls[colName], color='g') # plot the boxplot\n",
        "    plt.title(colName) # provide title\n",
        "    plt.ylabel(colName) # name Y axis\n",
        "    plt.xlabel('Bins') # name X axis\n",
        "    plt.show()"
      ],
      "execution_count": null,
      "outputs": []
    }
  ]
}