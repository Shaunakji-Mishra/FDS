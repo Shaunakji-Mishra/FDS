{
  "nbformat": 4,
  "nbformat_minor": 0,
  "metadata": {
    "colab": {
      "name": "Lab_3.ipynb",
      "provenance": [],
      "authorship_tag": "ABX9TyM3Nq7yHVTLbFjs6DPLZ0vO",
      "include_colab_link": true
    },
    "kernelspec": {
      "name": "python3",
      "display_name": "Python 3"
    },
    "language_info": {
      "name": "python"
    }
  },
  "cells": [
    {
      "cell_type": "markdown",
      "metadata": {
        "id": "view-in-github",
        "colab_type": "text"
      },
      "source": [
        "<a href=\"https://colab.research.google.com/github/Shaunakji-Mishra/FDS/blob/main/Lab_3.ipynb\" target=\"_parent\"><img src=\"https://colab.research.google.com/assets/colab-badge.svg\" alt=\"Open In Colab\"/></a>"
      ]
    },
    {
      "cell_type": "code",
      "metadata": {
        "id": "oHXO8I4InQVT"
      },
      "source": [
        "import numpy as np\n",
        "import pandas as pd\n",
        "import matplotlib.pylab as plt\n",
        "%matplotlib inline\n",
        "from matplotlib.pylab import rcParams\n",
        "from datetime import datetime\n",
        "import seaborn as sns\n",
        "rcParams['figure.figsize']=10,6"
      ],
      "execution_count": null,
      "outputs": []
    },
    {
      "cell_type": "code",
      "metadata": {
        "id": "497NI4Fynb61"
      },
      "source": [
        "from google.colab import drive\n",
        "drive.mount('/content/gdrive')\n",
        "Location=\"/content/gdrive/MyDrive/Colab Notebooks/AirPassengers.csv\""
      ],
      "execution_count": null,
      "outputs": []
    },
    {
      "cell_type": "code",
      "metadata": {
        "id": "ofJlnMVdnem3"
      },
      "source": [
        "dataset=pd.read_csv(Location)\n",
        "#Parse strings to datetime type\n",
        "dataset['Month']=pd.to_datetime(dataset['Month'], infer_datetime_format=True)\n",
        "dataset.dtypes\n",
        "indexedDataset = dataset.set_index('Month')  \n",
        "indexedDataset.index"
      ],
      "execution_count": null,
      "outputs": []
    },
    {
      "cell_type": "code",
      "metadata": {
        "id": "btNR3s5annDy"
      },
      "source": [
        "indexedDataset.head()\n",
        "\n",
        "indexedDataset.tail()\n",
        "rollmean=indexedDataset.rolling(window=12).mean()\n",
        "\n",
        "rollstd=indexedDataset.rolling(window=12).std()\n",
        "print(rollmean,rollstd)\n",
        "\n",
        "orig=plt.plot(indexedDataset, color='blue', label='Original')\n",
        "mean=plt.plot(rollmean, color='red', label='Rolling Mean')\n",
        "std=plt.plot(rollstd, color='black', label='Rolling std')\n",
        "plt.legend(loc='best')\n",
        "plt.title('Rolling Mean & Standard Deviation')\n",
        "plt.show(block=False)\n",
        "\n",
        "#Perform Dickey-Fuller test:\n",
        "from statsmodels.tsa.stattools import adfuller\n",
        "\n",
        "print ('Results of Dickey-Fuller Test:')\n",
        "dftest = adfuller(indexedDataset['#Passengers'], autolag='AIC')\n",
        "dfoutput = pd.Series(dftest[0:4], index=['Test Statistic','p-value','#Lags Used','Number of Observations Used'])\n",
        "for key,value in dftest[4].items():\n",
        "    dfoutput['Critical Value (%s)'%key] = value\n",
        "print(dfoutput)\n",
        "\n",
        "\n",
        "\n",
        "indexedDataset_logScale = np.log(indexedDataset)\n",
        "plt.plot(indexedDataset_logScale)\n",
        "\n",
        "\n",
        "movingAverage = indexedDataset_logScale.rolling(window=12).mean()\n",
        "movingSTD = indexedDataset_logScale.rolling(window=12).std()\n",
        "plt.plot(indexedDataset_logScale)\n",
        "plt.plot(movingAverage, color='red')\n",
        "\n",
        "\n",
        "\n",
        "from statsmodels.tsa.stattools import adfuller\n",
        "def test_stationarity(timeseries):\n",
        "    \n",
        "    #Determing rolling statistics\n",
        "    movingAverage = timeseries.rolling(window=12).mean()\n",
        "    movingSTD = timeseries.rolling(window=12).std()\n",
        "\n",
        "    #Plot rolling statistics:\n",
        "    orig = plt.plot(timeseries, color='blue',label='Original')\n",
        "    mean = plt.plot(movingAverage, color='red', label='Rolling Mean')\n",
        "    std = plt.plot(movingSTD, color='black', label = 'Rolling Std')\n",
        "    plt.legend(loc='best')\n",
        "    plt.title('Rolling Mean & Standard Deviation')\n",
        "    plt.show(block=False)\n",
        "    \n",
        "    #Perform Dickey-Fuller test:\n",
        "    print('Results of Dickey-Fuller Test:')\n",
        "    dftest = adfuller(timeseries['#Passengers'], autolag='AIC')\n",
        "    dfoutput = pd.Series(dftest[0:4], index=['Test Statistic','p-value','#Lags Used','Number of Observations Used'])\n",
        "    for key,value in dftest[4].items():\n",
        "        dfoutput['Critical Value (%s)'%key] = value\n",
        "    print(dfoutput)"
      ],
      "execution_count": null,
      "outputs": []
    }
  ]
}